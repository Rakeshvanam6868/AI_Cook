{
 "cells": [
  {
   "cell_type": "code",
   "execution_count": null,
   "metadata": {},
   "outputs": [],
   "source": [
    "###CNN classification model"
   ]
  },
  {
   "cell_type": "code",
   "execution_count": 82,
   "metadata": {},
   "outputs": [],
   "source": [
    "import tensorflow as tf\n",
    "from tensorflow.keras.preprocessing.image import ImageDataGenerator\n",
    "from tensorflow.keras.optimizers import RMSprop\n",
    "import gensim\n",
    "import numpy as np"
   ]
  },
  {
   "cell_type": "code",
   "execution_count": 69,
   "metadata": {},
   "outputs": [],
   "source": [
    "model = tf.keras.models.Sequential([\n",
    "    tf.keras.layers.Conv2D(16, (3,3), activation=\"relu\", input_shape=(50,300,1)),\n",
    "    tf.keras.layers.MaxPooling2D(2,2),\n",
    "    tf.keras.layers.Conv2D(32, (3,3), activation=\"relu\"),\n",
    "    tf.keras.layers.MaxPooling2D(2,2),\n",
    "    tf.keras.layers.Conv2D(64, (3,3), activation=\"relu\"),\n",
    "    tf.keras.layers.MaxPooling2D(2,2),\n",
    "    tf.keras.layers.Flatten(),\n",
    "    tf.keras.layers.Dense(4096, activation=\"relu\", name=\"dense\")\n",
    "])"
   ]
  },
  {
   "cell_type": "code",
   "execution_count": 71,
   "metadata": {},
   "outputs": [],
   "source": [
    "model.compile(optimizer=RMSprop(lr=0.001), loss='mse') #,metrics=['acc']"
   ]
  },
  {
   "cell_type": "code",
   "execution_count": 63,
   "metadata": {},
   "outputs": [
    {
     "data": {
      "text/plain": [
       "<tensorflow.python.keras.layers.core.Dense at 0x2e8d57b9da0>"
      ]
     },
     "execution_count": 63,
     "metadata": {},
     "output_type": "execute_result"
    }
   ],
   "source": [
    "model.get_layer(\"dense\")"
   ]
  },
  {
   "cell_type": "code",
   "execution_count": 13,
   "metadata": {},
   "outputs": [
    {
     "ename": "NameError",
     "evalue": "name 'train_generator' is not defined",
     "output_type": "error",
     "traceback": [
      "\u001b[1;31m---------------------------------------------------------------------------\u001b[0m",
      "\u001b[1;31mNameError\u001b[0m                                 Traceback (most recent call last)",
      "\u001b[1;32m<ipython-input-13-ff47ea6211c7>\u001b[0m in \u001b[0;36m<module>\u001b[1;34m\u001b[0m\n\u001b[1;32m----> 1\u001b[1;33m \u001b[0mhistory\u001b[0m \u001b[1;33m=\u001b[0m \u001b[0mmodel\u001b[0m\u001b[1;33m.\u001b[0m\u001b[0mfit_generator\u001b[0m\u001b[1;33m(\u001b[0m\u001b[0mtrain_generator\u001b[0m\u001b[1;33m,\u001b[0m \u001b[0mvalidation_data\u001b[0m\u001b[1;33m=\u001b[0m\u001b[0mvalidation_generator\u001b[0m\u001b[1;33m,\u001b[0m \u001b[0msteps_per_epoch\u001b[0m\u001b[1;33m=\u001b[0m\u001b[1;36m100\u001b[0m\u001b[1;33m,\u001b[0m \u001b[0mepochs\u001b[0m\u001b[1;33m=\u001b[0m\u001b[1;36m15\u001b[0m\u001b[1;33m,\u001b[0m \u001b[0mvalidation_steps\u001b[0m\u001b[1;33m=\u001b[0m\u001b[1;36m50\u001b[0m\u001b[1;33m,\u001b[0m \u001b[0mverbose\u001b[0m\u001b[1;33m=\u001b[0m\u001b[1;36m1\u001b[0m\u001b[1;33m)\u001b[0m\u001b[1;33m\u001b[0m\u001b[0m\n\u001b[0m",
      "\u001b[1;31mNameError\u001b[0m: name 'train_generator' is not defined"
     ]
    }
   ],
   "source": [
    "history = model.fit_generator(train_generator, validation_data=validation_generator, steps_per_epoch=100, epochs=15, validation_steps=50, verbose=1)"
   ]
  },
  {
   "cell_type": "code",
   "execution_count": 55,
   "metadata": {},
   "outputs": [],
   "source": [
    "w2v = gensim.models.KeyedVectors.load_word2vec_format('GoogleNews-vectors-negative300.bin', binary=True)"
   ]
  },
  {
   "cell_type": "code",
   "execution_count": 56,
   "metadata": {},
   "outputs": [
    {
     "data": {
      "text/plain": [
       "array([-0.1875    , -0.19921875, -0.03857422,  0.20605469, -0.04052734,\n",
       "       -0.09423828,  0.16601562, -0.25      , -0.1640625 , -0.00982666,\n",
       "        0.23632812, -0.08691406, -0.16210938,  0.10986328, -0.1484375 ,\n",
       "        0.40429688, -0.05126953,  0.02758789, -0.02563477, -0.32226562,\n",
       "        0.22558594, -0.01806641,  0.3046875 ,  0.17578125,  0.22265625,\n",
       "        0.16894531, -0.10351562,  0.03344727, -0.10693359,  0.06030273,\n",
       "        0.17675781, -0.09375   ,  0.05834961,  0.16113281, -0.5       ,\n",
       "       -0.00274658,  0.08349609, -0.22949219,  0.02429199,  0.3046875 ,\n",
       "        0.04760742, -0.02050781,  0.08056641,  0.13671875, -0.16992188,\n",
       "       -0.2734375 , -0.265625  ,  0.0456543 , -0.12695312,  0.03710938,\n",
       "       -0.03344727,  0.05786133, -0.22949219, -0.21875   , -0.01599121,\n",
       "       -0.26171875, -0.2890625 , -0.23144531, -0.36132812, -0.21777344,\n",
       "        0.01257324,  0.00112152, -0.13476562,  0.30078125,  0.21484375,\n",
       "        0.10546875, -0.13085938, -0.21386719,  0.08056641, -0.03588867,\n",
       "        0.07275391, -0.30273438, -0.20214844, -0.10253906, -0.3203125 ,\n",
       "       -0.18261719,  0.05712891, -0.12695312,  0.16210938, -0.11230469,\n",
       "       -0.11279297, -0.10742188, -0.16601562, -0.078125  ,  0.02490234,\n",
       "       -0.125     ,  0.00128937,  0.02160645, -0.23828125,  0.24511719,\n",
       "       -0.2109375 ,  0.06787109,  0.10058594, -0.14257812, -0.140625  ,\n",
       "       -0.08007812,  0.08300781,  0.06787109,  0.36328125,  0.1640625 ,\n",
       "       -0.03540039, -0.04125977, -0.01721191, -0.08154297,  0.02819824,\n",
       "        0.00460815,  0.12695312,  0.01239014, -0.19140625, -0.12890625,\n",
       "       -0.14746094,  0.01831055, -0.31640625, -0.12695312, -0.0559082 ,\n",
       "        0.17773438, -0.13085938, -0.34375   ,  0.08544922, -0.05834961,\n",
       "       -0.00540161,  0.18847656, -0.19433594, -0.01843262, -0.10058594,\n",
       "        0.19921875, -0.03466797, -0.09716797,  0.25      ,  0.1484375 ,\n",
       "       -0.20605469,  0.30078125, -0.00357056, -0.33398438, -0.03051758,\n",
       "        0.14941406, -0.04101562,  0.09863281,  0.1171875 ,  0.01318359,\n",
       "        0.19238281, -0.51171875, -0.2421875 , -0.359375  , -0.10791016,\n",
       "        0.00692749,  0.2578125 ,  0.19726562, -0.16601562, -0.05737305,\n",
       "       -0.04858398, -0.27929688, -0.13476562,  0.12060547,  0.1875    ,\n",
       "       -0.16113281, -0.01275635, -0.44335938, -0.12304688, -0.02001953,\n",
       "       -0.03222656,  0.02087402,  0.11083984,  0.22363281,  0.10449219,\n",
       "       -0.16113281, -0.10400391,  0.10205078,  0.12060547, -0.14160156,\n",
       "       -0.24121094,  0.30078125,  0.11621094, -0.05200195, -0.41992188,\n",
       "       -0.33984375,  0.25      , -0.38476562,  0.08349609,  0.4140625 ,\n",
       "        0.01953125, -0.10888672, -0.3671875 ,  0.5546875 ,  0.26171875,\n",
       "       -0.04052734,  0.140625  ,  0.01623535,  0.19335938,  0.17480469,\n",
       "       -0.13183594, -0.19921875,  0.109375  , -0.11083984,  0.34375   ,\n",
       "        0.24804688, -0.15820312, -0.05322266,  0.05639648,  0.00234985,\n",
       "        0.13867188, -0.171875  ,  0.12158203, -0.22851562, -0.17773438,\n",
       "       -0.1171875 ,  0.16601562, -0.03417969,  0.046875  , -0.20996094,\n",
       "       -0.23144531, -0.02819824,  0.1796875 ,  0.10986328,  0.05004883,\n",
       "        0.01843262, -0.07470703, -0.07226562,  0.13574219,  0.22070312,\n",
       "        0.11865234,  0.26171875, -0.36523438, -0.02111816,  0.296875  ,\n",
       "       -0.16992188,  0.01623535,  0.06347656,  0.07373047,  0.44921875,\n",
       "        0.04052734, -0.08886719, -0.12890625,  0.25585938, -0.17285156,\n",
       "       -0.40234375,  0.06884766, -0.16796875,  0.06933594,  0.00933838,\n",
       "        0.31054688,  0.16992188,  0.09619141, -0.15917969,  0.03613281,\n",
       "       -0.03466797, -0.2421875 ,  0.09521484,  0.12207031,  0.05200195,\n",
       "       -0.01623535, -0.09716797,  0.29296875,  0.07373047, -0.23046875,\n",
       "       -0.35742188,  0.07617188, -0.30859375, -0.06298828,  0.04321289,\n",
       "       -0.01257324, -0.09472656, -0.15332031,  0.18066406, -0.01330566,\n",
       "       -0.1796875 , -0.21484375, -0.01544189,  0.07226562, -0.20605469,\n",
       "        0.02770996,  0.40039062,  0.22167969, -0.12353516, -0.36132812,\n",
       "        0.09130859,  0.01165771, -0.18359375, -0.09570312,  0.16308594,\n",
       "       -0.12304688,  0.04248047, -0.07373047, -0.109375  , -0.16699219,\n",
       "       -0.29492188, -0.18261719,  0.14355469, -0.01080322,  0.15429688,\n",
       "       -0.42578125, -0.41601562,  0.11816406, -0.10986328, -0.06884766,\n",
       "        0.0703125 , -0.09375   ,  0.19335938,  0.21386719, -0.04931641],\n",
       "      dtype=float32)"
      ]
     },
     "execution_count": 56,
     "metadata": {},
     "output_type": "execute_result"
    }
   ],
   "source": [
    "w2v['sugar']"
   ]
  },
  {
   "cell_type": "code",
   "execution_count": 99,
   "metadata": {},
   "outputs": [],
   "source": [
    "w2v.similarity('white', 'brown')\n",
    "w2v.similarity('lemon', 'juice')\n",
    "a = np.array([w2v['lemon'] ]* 50)\n",
    "b = np.array([[1]*4096 ]* 1)\n"
   ]
  },
  {
   "cell_type": "code",
   "execution_count": 100,
   "metadata": {},
   "outputs": [
    {
     "name": "stdout",
     "output_type": "stream",
     "text": [
      "(50, 300)\n",
      "(1, 4096)\n",
      "(1, 50, 300, 1)\n",
      "(1, 4096)\n"
     ]
    }
   ],
   "source": [
    "print(a.shape)\n",
    "print(b.shape)\n",
    "a = a.reshape([1, 50, 300,1])\n",
    "#b = b.reshape([-1,50, 4096,1])\n",
    "print(a.shape)\n",
    "print(b.shape)\n"
   ]
  },
  {
   "cell_type": "code",
   "execution_count": 101,
   "metadata": {},
   "outputs": [
    {
     "name": "stdout",
     "output_type": "stream",
     "text": [
      "\r",
      "1/1 [==============================] - 4s 4s/sample - loss: 0.2502\n"
     ]
    },
    {
     "data": {
      "text/plain": [
       "<tensorflow.python.keras.callbacks.History at 0x2e8d5bbd7f0>"
      ]
     },
     "execution_count": 101,
     "metadata": {},
     "output_type": "execute_result"
    }
   ],
   "source": [
    "model.fit(a, b, epochs=1, batch_size=50, verbose=1)"
   ]
  },
  {
   "cell_type": "code",
   "execution_count": 103,
   "metadata": {},
   "outputs": [],
   "source": [
    "pred = model.predict(a)"
   ]
  },
  {
   "cell_type": "code",
   "execution_count": 1,
   "metadata": {},
   "outputs": [
    {
     "ename": "NameError",
     "evalue": "name 'pred' is not defined",
     "output_type": "error",
     "traceback": [
      "\u001b[1;31m---------------------------------------------------------------------------\u001b[0m",
      "\u001b[1;31mNameError\u001b[0m                                 Traceback (most recent call last)",
      "\u001b[1;32m<ipython-input-1-08434aeda4d1>\u001b[0m in \u001b[0;36m<module>\u001b[1;34m\u001b[0m\n\u001b[1;32m----> 1\u001b[1;33m \u001b[0mprint\u001b[0m\u001b[1;33m(\u001b[0m\u001b[0mpred\u001b[0m\u001b[1;33m)\u001b[0m\u001b[1;33m\u001b[0m\u001b[0m\n\u001b[0m\u001b[0;32m      2\u001b[0m \u001b[0mprint\u001b[0m\u001b[1;33m(\u001b[0m\u001b[0ma\u001b[0m\u001b[1;33m)\u001b[0m\u001b[1;33m\u001b[0m\u001b[0m\n\u001b[0;32m      3\u001b[0m \u001b[1;31m#print(len(pred))\u001b[0m\u001b[1;33m\u001b[0m\u001b[1;33m\u001b[0m\u001b[0m\n",
      "\u001b[1;31mNameError\u001b[0m: name 'pred' is not defined"
     ]
    }
   ],
   "source": [
    "print(pred)\n",
    "print(b)\n",
    "#print(len(pred))"
   ]
  }
 ],
 "metadata": {
  "kernelspec": {
   "display_name": "Python 3",
   "language": "python",
   "name": "python3"
  },
  "language_info": {
   "codemirror_mode": {
    "name": "ipython",
    "version": 3
   },
   "file_extension": ".py",
   "mimetype": "text/x-python",
   "name": "python",
   "nbconvert_exporter": "python",
   "pygments_lexer": "ipython3",
   "version": "3.6.5"
  }
 },
 "nbformat": 4,
 "nbformat_minor": 2
}
